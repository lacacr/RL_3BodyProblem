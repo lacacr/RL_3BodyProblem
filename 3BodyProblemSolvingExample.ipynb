{
 "cells": [
  {
   "cell_type": "code",
   "execution_count": 1,
   "metadata": {},
   "outputs": [],
   "source": [
    "from RL_3BodyProblem_SolvingMethod import ThreeBodyProblem\n",
    "import numpy as np"
   ]
  },
  {
   "cell_type": "code",
   "execution_count": 2,
   "metadata": {},
   "outputs": [],
   "source": [
    "# Set system parameters\n",
    "m1 = 10\n",
    "m2 = 20\n",
    "m3 = 30\n",
    "m = (m1, m2, m3)\n",
    "G = 9.8"
   ]
  },
  {
   "cell_type": "code",
   "execution_count": 3,
   "metadata": {},
   "outputs": [],
   "source": [
    "# Set solver parameters\n",
    "t0 = 0\n",
    "T = 10\n",
    "n = 1000"
   ]
  },
  {
   "cell_type": "code",
   "execution_count": 4,
   "metadata": {},
   "outputs": [],
   "source": [
    "# Set initial conditions\n",
    "r1 = np.empty(3)\n",
    "v1 = np.empty(3)\n",
    "r1[0] = -10\n",
    "r1[1] = 10\n",
    "r1[2] = -11\n",
    "v1[0] = -3\n",
    "v1[1] = 0\n",
    "v1[2] = 0\n",
    "\n",
    "r2 = np.empty(3)\n",
    "v2 = np.empty(3)\n",
    "r2[0] = 0 \n",
    "r2[1] = 0\n",
    "r2[2] = 0 \n",
    "v2[0] = 0\n",
    "v2[1] = 0\n",
    "v2[2] = 0\n",
    "\n",
    "r3 = np.empty(3)\n",
    "v3 = np.empty(3)\n",
    "r3[0] = 10\n",
    "r3[1] = 10\n",
    "r3[2] = 12\n",
    "v3[0] = 3\n",
    "v3[1] = 0\n",
    "v3[2] = 0\n",
    "\n",
    "X = np.empty(18)\n",
    "X[0:3] = r1\n",
    "X[3:6] = r2\n",
    "X[6:9] = r3\n",
    "X[9:12] = v1\n",
    "X[12:15] = v2\n",
    "X[15:18] = v3"
   ]
  },
  {
   "cell_type": "code",
   "execution_count": 5,
   "metadata": {},
   "outputs": [],
   "source": [
    "# Call solver\n",
    "solver = ThreeBodyProblem(m, X, T, t0, n, G)"
   ]
  },
  {
   "cell_type": "code",
   "execution_count": 6,
   "metadata": {},
   "outputs": [
    {
     "data": {
      "text/plain": [
       "array([[-1.00000000e+01,  1.00000000e+01, -1.10000000e+01, ...,\n",
       "         3.00000000e+00,  0.00000000e+00,  0.00000000e+00],\n",
       "       [-1.00000000e+01,  1.00000000e+01, -1.10000000e+01, ...,\n",
       "         3.00000000e+00,  0.00000000e+00,  0.00000000e+00],\n",
       "       [-1.00299726e+01,  9.99998298e+00, -1.09999693e+01, ...,\n",
       "         2.99623553e+00, -3.06797013e-03, -4.47605803e-03],\n",
       "       ...,\n",
       "       [-1.55193925e+01,  3.39424087e+00,  4.08967574e+00, ...,\n",
       "         2.69845358e+00,  5.08792053e-01,  2.28707308e-01],\n",
       "       [-1.55039557e+01,  3.38700156e+00,  4.11082425e+00, ...,\n",
       "         2.69469776e+00,  5.02309693e-01,  2.22324464e-01],\n",
       "       [-1.54884801e+01,  3.37976553e+00,  4.13197163e+00, ...,\n",
       "         2.69093303e+00,  4.95862795e-01,  2.15972720e-01]])"
      ]
     },
     "execution_count": 6,
     "metadata": {},
     "output_type": "execute_result"
    }
   ],
   "source": [
    "solver.Xs"
   ]
  },
  {
   "cell_type": "code",
   "execution_count": 7,
   "metadata": {},
   "outputs": [
    {
     "data": {
      "text/plain": [
       "array([-12.70313495,   9.84739919, -10.72725646,   0.14545034,\n",
       "         0.28522819,   0.16679315,  12.78407809,   9.86071481,\n",
       "        11.79789006,  -2.46279543,  -0.29463174,   0.5261474 ,\n",
       "         0.29793063,   0.55456658,   0.32670956,   2.62231139,\n",
       "        -0.27150047,  -0.39318884])"
      ]
     },
     "execution_count": 7,
     "metadata": {},
     "output_type": "execute_result"
    }
   ],
   "source": [
    "solver.S(1)"
   ]
  }
 ],
 "metadata": {
  "kernelspec": {
   "display_name": "myenv",
   "language": "python",
   "name": "python3"
  },
  "language_info": {
   "codemirror_mode": {
    "name": "ipython",
    "version": 3
   },
   "file_extension": ".py",
   "mimetype": "text/x-python",
   "name": "python",
   "nbconvert_exporter": "python",
   "pygments_lexer": "ipython3",
   "version": "3.10.4"
  }
 },
 "nbformat": 4,
 "nbformat_minor": 2
}
