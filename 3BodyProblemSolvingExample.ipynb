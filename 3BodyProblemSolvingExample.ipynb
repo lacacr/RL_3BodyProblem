{
 "cells": [
  {
   "cell_type": "code",
   "execution_count": 1,
   "metadata": {},
   "outputs": [],
   "source": [
    "from RL_3BodyProblem_SolvingMethod import ThreeBodyProblem\n",
    "import numpy as np"
   ]
  },
  {
   "cell_type": "code",
   "execution_count": 2,
   "metadata": {},
   "outputs": [],
   "source": [
    "# Set system parameters\n",
    "m1 = 10\n",
    "m2 = 20\n",
    "m3 = 30\n",
    "m = (m1, m2, m3)\n",
    "G = 9.8"
   ]
  },
  {
   "cell_type": "code",
   "execution_count": 3,
   "metadata": {},
   "outputs": [],
   "source": [
    "# Set solver parameters\n",
    "t0 = 0\n",
    "T = 10\n",
    "n = 1000"
   ]
  },
  {
   "cell_type": "code",
   "execution_count": 4,
   "metadata": {},
   "outputs": [],
   "source": [
    "# Set initial conditions\n",
    "r1 = np.empty(3)\n",
    "v1 = np.empty(3)\n",
    "r1[0] = -10\n",
    "r1[1] = 10\n",
    "r1[2] = -11\n",
    "v1[0] = -3\n",
    "v1[1] = 0\n",
    "v1[2] = 0\n",
    "\n",
    "r2 = np.empty(3)\n",
    "v2 = np.empty(3)\n",
    "r2[0] = 0 \n",
    "r2[1] = 0\n",
    "r2[2] = 0 \n",
    "v2[0] = 0\n",
    "v2[1] = 0\n",
    "v2[2] = 0\n",
    "\n",
    "r3 = np.empty(3)\n",
    "v3 = np.empty(3)\n",
    "r3[0] = 10\n",
    "r3[1] = 10\n",
    "r3[2] = 12\n",
    "v3[0] = 3\n",
    "v3[1] = 0\n",
    "v3[2] = 0\n",
    "\n",
    "X = np.empty(18)\n",
    "X[0:3] = r1\n",
    "X[3:6] = r2\n",
    "X[6:9] = r3\n",
    "X[9:12] = v1\n",
    "X[12:15] = v2\n",
    "X[15:18] = v3"
   ]
  },
  {
   "cell_type": "code",
   "execution_count": 5,
   "metadata": {},
   "outputs": [
    {
     "name": "stdout",
     "output_type": "stream",
     "text": [
      "(144,)\n"
     ]
    },
    {
     "ename": "IndexError",
     "evalue": "index 64 is out of bounds for axis 0 with size 64",
     "output_type": "error",
     "traceback": [
      "\u001b[1;31m---------------------------------------------------------------------------\u001b[0m",
      "\u001b[1;31mIndexError\u001b[0m                                Traceback (most recent call last)",
      "Input \u001b[1;32mIn [5]\u001b[0m, in \u001b[0;36m<cell line: 2>\u001b[1;34m()\u001b[0m\n\u001b[0;32m      1\u001b[0m \u001b[38;5;66;03m# Call solver\u001b[39;00m\n\u001b[1;32m----> 2\u001b[0m solver \u001b[38;5;241m=\u001b[39m \u001b[43mThreeBodyProblem\u001b[49m\u001b[43m(\u001b[49m\u001b[43mm\u001b[49m\u001b[43m,\u001b[49m\u001b[43m \u001b[49m\u001b[43mX\u001b[49m\u001b[43m,\u001b[49m\u001b[43m \u001b[49m\u001b[43mT\u001b[49m\u001b[43m,\u001b[49m\u001b[43m \u001b[49m\u001b[43mt0\u001b[49m\u001b[43m,\u001b[49m\u001b[43m \u001b[49m\u001b[43mn\u001b[49m\u001b[43m,\u001b[49m\u001b[43m \u001b[49m\u001b[43mG\u001b[49m\u001b[43m)\u001b[49m\n",
      "File \u001b[1;32mc:\\Users\\jlrit\\OneDrive\\Documentos\\College\\9º Semestre\\MAP2310\\RL_3BodyProblem\\RL_3BodyProblem_SolvingMethod.py:50\u001b[0m, in \u001b[0;36mThreeBodyProblem.__init__\u001b[1;34m(self, m, X, T, t0, n, G)\u001b[0m\n\u001b[0;32m     48\u001b[0m \u001b[38;5;28mself\u001b[39m\u001b[38;5;241m.\u001b[39m_RungeKutta44()\n\u001b[0;32m     49\u001b[0m \u001b[38;5;66;03m# Call Spline interpolation to get continuous functions\u001b[39;00m\n\u001b[1;32m---> 50\u001b[0m \u001b[38;5;28;43mself\u001b[39;49m\u001b[38;5;241;43m.\u001b[39;49m\u001b[43m_SplineInterpolation\u001b[49m\u001b[43m(\u001b[49m\u001b[43m)\u001b[49m\n",
      "File \u001b[1;32mc:\\Users\\jlrit\\OneDrive\\Documentos\\College\\9º Semestre\\MAP2310\\RL_3BodyProblem\\RL_3BodyProblem_SolvingMethod.py:96\u001b[0m, in \u001b[0;36mThreeBodyProblem._SplineInterpolation\u001b[1;34m(self)\u001b[0m\n\u001b[0;32m     85\u001b[0m A \u001b[38;5;241m=\u001b[39m np\u001b[38;5;241m.\u001b[39mvstack((\n\u001b[0;32m     86\u001b[0m     np\u001b[38;5;241m.\u001b[39marray([base,zeros,zeros,zeros,zeros,zeros,zeros,zeros]),\n\u001b[0;32m     87\u001b[0m     np\u001b[38;5;241m.\u001b[39marray([base, t_diff1\u001b[38;5;241m*\u001b[39mbase, (t_diff1\u001b[38;5;241m*\u001b[39m\u001b[38;5;241m*\u001b[39m\u001b[38;5;241m2\u001b[39m)\u001b[38;5;241m*\u001b[39mbase, (t_diff1\u001b[38;5;241m*\u001b[39m\u001b[38;5;241m*\u001b[39m\u001b[38;5;241m3\u001b[39m)\u001b[38;5;241m*\u001b[39mbase, zeros, zeros, zeros, zeros]),\n\u001b[1;32m   (...)\u001b[0m\n\u001b[0;32m     93\u001b[0m     np\u001b[38;5;241m.\u001b[39marray([zeros,zeros,zeros,zeros,zeros,base,(\u001b[38;5;241m2\u001b[39m\u001b[38;5;241m*\u001b[39mt_diff2)\u001b[38;5;241m*\u001b[39mbase,(\u001b[38;5;241m3\u001b[39m\u001b[38;5;241m*\u001b[39mt_diff2\u001b[38;5;241m*\u001b[39m\u001b[38;5;241m*\u001b[39m\u001b[38;5;241m2\u001b[39m)\u001b[38;5;241m*\u001b[39mbase])\n\u001b[0;32m     94\u001b[0m ))\n\u001b[0;32m     95\u001b[0m b \u001b[38;5;241m=\u001b[39m np\u001b[38;5;241m.\u001b[39mhstack((\u001b[38;5;28mself\u001b[39m\u001b[38;5;241m.\u001b[39mXs[i\u001b[38;5;241m-\u001b[39m\u001b[38;5;241m1\u001b[39m], \u001b[38;5;28mself\u001b[39m\u001b[38;5;241m.\u001b[39mXs[i], \u001b[38;5;28mself\u001b[39m\u001b[38;5;241m.\u001b[39mXs[i], \u001b[38;5;28mself\u001b[39m\u001b[38;5;241m.\u001b[39mXs[i\u001b[38;5;241m+\u001b[39m\u001b[38;5;241m1\u001b[39m], zeros, zeros, \u001b[38;5;28mself\u001b[39m\u001b[38;5;241m.\u001b[39mf(\u001b[38;5;28mself\u001b[39m\u001b[38;5;241m.\u001b[39mXs[i\u001b[38;5;241m-\u001b[39m\u001b[38;5;241m1\u001b[39m],\u001b[38;5;28mself\u001b[39m\u001b[38;5;241m.\u001b[39mt[i\u001b[38;5;241m-\u001b[39m\u001b[38;5;241m1\u001b[39m]), \u001b[38;5;28mself\u001b[39m\u001b[38;5;241m.\u001b[39mf(\u001b[38;5;28mself\u001b[39m\u001b[38;5;241m.\u001b[39mXs[i\u001b[38;5;241m+\u001b[39m\u001b[38;5;241m1\u001b[39m],\u001b[38;5;28mself\u001b[39m\u001b[38;5;241m.\u001b[39mt[i\u001b[38;5;241m+\u001b[39m\u001b[38;5;241m1\u001b[39m])))\n\u001b[1;32m---> 96\u001b[0m \u001b[38;5;28mself\u001b[39m\u001b[38;5;241m.\u001b[39mS_params\u001b[38;5;241m.\u001b[39mappend(\u001b[43mGaussianElimination\u001b[49m\u001b[43m(\u001b[49m\u001b[43mA\u001b[49m\u001b[43m,\u001b[49m\u001b[43m \u001b[49m\u001b[43mb\u001b[49m\u001b[43m)\u001b[49m[\u001b[38;5;241m0\u001b[39m:\u001b[38;5;241m4\u001b[39m])\n",
      "File \u001b[1;32mc:\\Users\\jlrit\\OneDrive\\Documentos\\College\\9º Semestre\\MAP2310\\RL_3BodyProblem\\RL_3BodyProblem_SolvingMethod.py:16\u001b[0m, in \u001b[0;36mGaussianElimination\u001b[1;34m(A, b)\u001b[0m\n\u001b[0;32m     14\u001b[0m max_row \u001b[38;5;241m=\u001b[39m i\n\u001b[0;32m     15\u001b[0m \u001b[38;5;28;01mfor\u001b[39;00m j \u001b[38;5;129;01min\u001b[39;00m \u001b[38;5;28mrange\u001b[39m(i\u001b[38;5;241m+\u001b[39m\u001b[38;5;241m1\u001b[39m, n):\n\u001b[1;32m---> 16\u001b[0m     \u001b[38;5;28;01mif\u001b[39;00m \u001b[38;5;28mabs\u001b[39m(\u001b[43mA\u001b[49m\u001b[43m[\u001b[49m\u001b[43mj\u001b[49m\u001b[43m,\u001b[49m\u001b[43m \u001b[49m\u001b[43mi\u001b[49m\u001b[43m]\u001b[49m) \u001b[38;5;241m>\u001b[39m \u001b[38;5;28mabs\u001b[39m(A[max_row, i]):\n\u001b[0;32m     17\u001b[0m         max_row \u001b[38;5;241m=\u001b[39m j\n\u001b[0;32m     18\u001b[0m A[[i, max_row]] \u001b[38;5;241m=\u001b[39m A[[max_row, i]]\n",
      "\u001b[1;31mIndexError\u001b[0m: index 64 is out of bounds for axis 0 with size 64"
     ]
    }
   ],
   "source": [
    "# Call solver\n",
    "solver = ThreeBodyProblem(m, X, T, t0, n, G)"
   ]
  }
 ],
 "metadata": {
  "kernelspec": {
   "display_name": "myenv",
   "language": "python",
   "name": "python3"
  },
  "language_info": {
   "codemirror_mode": {
    "name": "ipython",
    "version": 3
   },
   "file_extension": ".py",
   "mimetype": "text/x-python",
   "name": "python",
   "nbconvert_exporter": "python",
   "pygments_lexer": "ipython3",
   "version": "3.10.4"
  }
 },
 "nbformat": 4,
 "nbformat_minor": 2
}
